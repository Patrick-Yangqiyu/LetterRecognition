{
 "cells": [
  {
   "cell_type": "code",
   "execution_count": 16,
   "metadata": {
    "collapsed": true
   },
   "outputs": [],
   "source": [
    "import tensorflow as tf\n",
    "import numpy as np\n",
    "import matplotlib.pyplot as plt\n",
    "import pandas as pd\n",
    "from string import ascii_uppercase"
   ]
  },
  {
   "cell_type": "code",
   "execution_count": 102,
   "metadata": {
    "collapsed": true
   },
   "outputs": [],
   "source": [
    "# Parameters\n",
    "learning_rate = 0.001\n",
    "training_epochs = 15\n",
    "batch_size = 100\n",
    "batch_shift = 1\n",
    "display_step = 1\n",
    "\n",
    "# Network Parameters\n",
    "n_hidden_1 = 256   # 1st layer number of features\n",
    "n_hidden_2 = 256   # 2nd layer number of features\n",
    "n_input = 16     # data input (img shape: 28*28)\n",
    "n_classes = 26   # total classes (A-Z letters)\n",
    "\n",
    "x = tf.placeholder(tf.float32, [None, n_input])\n",
    "y_ = tf.placeholder(tf.float32, [None, n_classes])\n",
    "\n",
    "# specifify the start and end position of training and testing\n",
    "train_start = 1\n",
    "train_end = 17000\n",
    "test_start = 17001\n",
    "test_end = 20000"
   ]
  },
  {
   "cell_type": "code",
   "execution_count": 123,
   "metadata": {
    "collapsed": true
   },
   "outputs": [],
   "source": [
    "# Create model\n",
    "def multilayer_perceptron(x, weights, biases):\n",
    "    # Hidden layer with RELU activation\n",
    "    layer_1 = tf.add(tf.matmul(x, weights['h1']), biases['b1'])\n",
    "    layer_1 = tf.nn.relu(layer_1)\n",
    "    # Hidden layer with RELU activation\n",
    "    layer_2 = tf.add(tf.matmul(layer_1, weights['h2']), biases['b2'])\n",
    "    layer_2 = tf.nn.relu(layer_2)\n",
    "    # Output layer with linear activation\n",
    "    out_layer = tf.matmul(layer_2, weights['out']) + biases['out']\n",
    "    return out_layer\n",
    "\n",
    "def input_reshape(input_pd, start, end, batch_size, batch_shift, n_features):\n",
    "    print ('*** input reshape ***')\n",
    "    temp_pd = input_pd[start - 1: end + batch_size - 1]\n",
    "    output_pd = map(lambda y: temp_pd[y:y + batch_size], range(0, end - start + 1, batch_shift))\n",
    "    output_temp = map(lambda x: np.array(output_pd[x]).reshape([-1]), range(len(list(output_pd))))\n",
    "    output = np.reshape(output_temp, [-1, batch_size, n_features])\n",
    "    return output\n",
    "\n",
    "\n",
    "def target_reshape(input_pd, start, end, batch_size, batch_shift, n_step_ahead, m_steps_pred):\n",
    "    print ('*** target reshape ***')\n",
    "    temp_pd = input_pd[start + batch_size + n_step_ahead - 2: end + batch_size + n_step_ahead + m_steps_pred - 2]\n",
    "    output_pd = map(lambda y: temp_pd[y:y + m_steps_pred], range(0, end - start + 1, batch_shift))\n",
    "    output_temp = map(lambda x: np.array(output_pd[x]).reshape([-1]), range(len(list(output_pd))))\n",
    "    output = np.reshape(output_temp, [-1, 1])\n",
    "    return output\n",
    "\n",
    "\n",
    "\n",
    "# Store layers weight & bias\n",
    "weights = {\n",
    "    'h1': tf.Variable(tf.random_normal([n_input, n_hidden_1])),\n",
    "    'h2': tf.Variable(tf.random_normal([n_hidden_1, n_hidden_2])),\n",
    "    'out': tf.Variable(tf.random_normal([n_hidden_2, n_classes]))\n",
    "}\n",
    "biases = {\n",
    "    'b1': tf.Variable(tf.random_normal([n_hidden_1])),\n",
    "    'b2': tf.Variable(tf.random_normal([n_hidden_2])),\n",
    "    'out': tf.Variable(tf.random_normal([n_classes]))\n",
    "}\n",
    "\n"
   ]
  },
  {
   "cell_type": "code",
   "execution_count": 124,
   "metadata": {
    "collapsed": false
   },
   "outputs": [],
   "source": [
    "read_data = pd.read_csv(\"./letter_recognition_training_data_set.csv\")\n"
   ]
  },
  {
   "cell_type": "code",
   "execution_count": 125,
   "metadata": {
    "collapsed": false
   },
   "outputs": [],
   "source": [
    "# Transform label to one-hot-vector\n"
   ]
  },
  {
   "cell_type": "code",
   "execution_count": 126,
   "metadata": {
    "collapsed": false
   },
   "outputs": [],
   "source": [
    "label_data = pd.get_dummies(read_data,sparse=True)"
   ]
  },
  {
   "cell_type": "code",
   "execution_count": null,
   "metadata": {
    "collapsed": false
   },
   "outputs": [
    {
     "name": "stdout",
     "output_type": "stream",
     "text": [
      "*** input reshape ***\n"
     ]
    }
   ],
   "source": [
    "\n",
    "### construct the training data ###\n",
    "train_input_temp_pd = label_data.loc[:16999,label_data.columns[:16]]\n",
    "# call the 'input_reshape' function to construct the training input data (a matrix)\n",
    "train_input_nparr = input_reshape(train_input_temp_pd, train_start, train_end, batch_size, batch_shift, n_input)\n",
    "\n",
    "train_target_temp_pd = label_data.loc[:16999,label_data.columns[-26:]]\n",
    "# call the 'target_reshape' function to construct the training target data (label) (a column vector)\n",
    "train_target_nparr = target_reshape(train_target_temp_pd, train_start, train_end, batch_size, batch_shift, n_step_ahead,\n",
    "                                    m_steps_pred)\n"
   ]
  },
  {
   "cell_type": "code",
   "execution_count": null,
   "metadata": {
    "collapsed": true
   },
   "outputs": [],
   "source": [
    "### construct the testing data ###\n",
    "test_input_temp_pd = input_pd[feature_to_input]\n",
    "# call the 'input_reshape' function to construct the training input data (a matrix)\n",
    "test_input_nparr = input_reshape(test_input_temp_pd, test_start, test_end, batch_size, batch_shift, n_input)\n",
    "\n",
    "test_target_temp_pd = input_pd[feature_to_predict]\n",
    "# call the 'target_reshape' function to construct the training target data (label) (a column vector)\n",
    "test_target_nparr = target_reshape(test_target_temp_pd, test_start, test_end, batch_size, batch_shift, n_step_ahead,\n",
    "                                   m_steps_pred)"
   ]
  },
  {
   "cell_type": "code",
   "execution_count": null,
   "metadata": {
    "collapsed": true
   },
   "outputs": [],
   "source": []
  }
 ],
 "metadata": {
  "kernelspec": {
   "display_name": "Python 3",
   "language": "python",
   "name": "python3"
  },
  "language_info": {
   "codemirror_mode": {
    "name": "ipython",
    "version": 3
   },
   "file_extension": ".py",
   "mimetype": "text/x-python",
   "name": "python",
   "nbconvert_exporter": "python",
   "pygments_lexer": "ipython3",
   "version": "3.6.0"
  }
 },
 "nbformat": 4,
 "nbformat_minor": 2
}
